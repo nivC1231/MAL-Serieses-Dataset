{
 "cells": [
  {
   "cell_type": "code",
   "execution_count": 1,
   "id": "7e5f1d3c-a14b-46bf-b282-d3e5041dfe25",
   "metadata": {},
   "outputs": [],
   "source": [
    "from selenium import webdriver\n",
    "from selenium.webdriver.common.by import By\n",
    "from selenium.webdriver.support.ui import WebDriverWait\n",
    "from selenium.webdriver.support import expected_conditions as EC\n",
    "from selenium.webdriver.chrome.service import Service\n",
    "from selenium.webdriver.support.ui import Select\n",
    "import numpy as np"
   ]
  },
  {
   "cell_type": "code",
   "execution_count": 2,
   "id": "8072f32d-f590-4487-be22-7a6ad0f1154c",
   "metadata": {},
   "outputs": [],
   "source": [
    "#                                         DATA\n",
    "\n",
    "titles = np.zeros(10, dtype='str')\n",
    "synopsis = np.zeros(10, dtype='str')\n",
    "episodes = np.zeros(10, dtype='int32')\n",
    "aired = np.zeros(10, dtype='str')\n",
    "seasons = np.zeros(10, dtype='str')\n",
    "broadcasts = np.zeros(10, dtype='str')\n",
    "studios = np.zeros(10, dtype='str')\n",
    "sources = np.zeros(10, dtype='str')\n",
    "genres = np.zeros(10, dtype='str')\n",
    "demographics = np.zeros(10, dtype='str')\n",
    "themes = np.zeros(10, dtype='str')\n",
    "durations = np.zeros(10, dtype='int32')\n",
    "ratings = np.zeros(10, dtype='str')\n",
    "scores = np.zeros(10, dtype='int32')\n",
    "scores_amount = np.zeros(10, dtype='int32')\n",
    "members = np.zeros(10, dtype='int32')\n",
    "favorives = np.zeros(10, dtype='int32')\n"
   ]
  },
  {
   "cell_type": "code",
   "execution_count": 6,
   "id": "a569d0f0-b0b5-4a8e-9bae-202217fbd2b4",
   "metadata": {},
   "outputs": [],
   "source": [
    "service = Service(executable_path='chromedriver-win64/chromedriver.exe')\n",
    "driver = webdriver.Chrome(service=service)\n",
    "driver.get('https://myanimelist.net/anime/season')\n",
    "\n",
    "jump_to_season = -1\n",
    "year = 2025\n",
    "filter1 = WebDriverWait(driver, 15).until(EC.element_to_be_clickable((By.XPATH, '/html/body/div[1]/div[2]/div[3]/div[2]/div[2]/div[2]/span[2]')))\n",
    "filter2 = WebDriverWait(driver, 15).until(EC.element_to_be_clickable((By.XPATH, '/html/body/div[1]/div[2]/div[3]/div[2]/div[2]/div[2]/span[3]')))\n",
    "filter1.click()\n",
    "filter2.click()\n",
    "\n",
    "for i in range(1000):\n",
    "    jump_to_season += 1\n",
    "    jump_to_year = str(year)\n",
    "    year -= 1\n",
    "    if jump_to_season == 4: jump_to_season = 0\n",
    "    year_field = WebDriverWait(15, driver).until(EC.presence_of_element_located((BY.XPATH, '/html/body/div[1]/div[2]/div[3]/div[2]/div[2]/div[1]/ul/li[10]/form/select')))\n",
    "    season_field = WebDriverWait(15, driver).until(EC.presence_of_element_located((BY.XPATH, '/html/body/div[1]/div[2]/div[3]/div[2]/div[2]/div[1]/ul/li[10]/form/input[1]')))\n",
    "    go = WebDriverWait(15, driver).until(EC.element_to_be_clickable((BY.XPATH, '/html/body/div[1]/div[2]/div[3]/div[2]/div[2]/div[1]/ul/li[10]/form/input[2]')))\n",
    "\n",
    "    select = Select(season_field)\n",
    "    year_field.send_keys(jump_to_year)\n",
    "    select.select_by_index(jump_to_season)\n",
    "    go.click()\n",
    "\n",
    "    imgs = WebDriverWait(15, driver).until(EC.presence_of_all_elements_located((By.CLASS_NAME, 'image')))\n",
    "    for i, img in enumerate(imgs):\n",
    "        # try to wait for img to be located \n",
    "        WebDriverWait(15, driver).until(img)\n",
    "        seriesPage_link = img.find_element(By.CSS_SELECTOR, 'a').get_attribute()\n",
    "        seriesPage_link.click()\n",
    "\n",
    "        title = WebDriverWait(15, driver).until(EC.presence_of_element_located((By.CLASS_NAME, 'title-english')))\n",
    "        description = WebDriverWait(15, driver).until(EC.presence_of_element_located((By.CSS_SELECTOR, \"[itemprop='description']\")))\n",
    "        \n",
    "        \n",
    "    \n",
    "    # serieses_cont = WebDriverWait(15, driver).until(EC.presence_of_elment_located((BY.XPATH, '/html/body/div[1]/div[2]/div[3]/div[2]/div[3]/div[1]')))\n",
    "    serieses_cont.find_elements"
   ]
  },
  {
   "cell_type": "code",
   "execution_count": null,
   "id": "2ed2eb56-b1fd-42ca-b601-dcf43e398108",
   "metadata": {},
   "outputs": [],
   "source": [
    "\n"
   ]
  }
 ],
 "metadata": {
  "kernelspec": {
   "display_name": "Python 3 (ipykernel)",
   "language": "python",
   "name": "python3"
  },
  "language_info": {
   "codemirror_mode": {
    "name": "ipython",
    "version": 3
   },
   "file_extension": ".py",
   "mimetype": "text/x-python",
   "name": "python",
   "nbconvert_exporter": "python",
   "pygments_lexer": "ipython3",
   "version": "3.10.13"
  }
 },
 "nbformat": 4,
 "nbformat_minor": 5
}
